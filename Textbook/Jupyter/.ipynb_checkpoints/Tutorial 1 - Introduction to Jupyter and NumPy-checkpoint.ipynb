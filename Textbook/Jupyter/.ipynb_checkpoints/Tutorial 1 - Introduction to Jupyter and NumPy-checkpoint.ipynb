{
 "cells": [
  {
   "cell_type": "markdown",
   "metadata": {},
   "source": [
    "# Tutorial 1 - Introduction To Jupyter and NumPy"
   ]
  },
  {
   "cell_type": "markdown",
   "metadata": {},
   "source": [
    "Welcome to the code side of [*Introduction to Fluid Dynamics*](https://josephmacmillan.github.io/IntroFluidDynamics/).  This is a [Jupyter Notebook](https://jupyter.org/), which is a nice way to present both text and code all in one convenient package.\n",
    "\n",
    "This introductory notebook will take us through some of the basic of writing and running Jupyter notebooks, as well as using [NumPy](https://numpy.org/) and [MatPlotLib](https://matplotlib.org/) to handle numerical calculation and plotting."
   ]
  },
  {
   "cell_type": "markdown",
   "metadata": {},
   "source": [
    "## 1.1 Jupyter and Python Basics\n",
    "\n",
    "So, this is a \"markdown\" type cell in Jupyter -- it's how you display text, equations (using Latex code), and images.  There's also a \"code\" cell type, and we'll get to that in a moment.  But regardless of the type of cell, you \"compile\" it by either clicking the Run button above or pressing ctrl-Enter (or shift-Enter if you also want to select the next cell down).  You can double-click on the cell to see and edit the underlying markdown.\n",
    "\n",
    "Let's try a code cell; we're using Python 3 for the code, so we'll enter a simple line of Python and see what happens."
   ]
  },
  {
   "cell_type": "code",
   "execution_count": 1,
   "metadata": {},
   "outputs": [
    {
     "name": "stdout",
     "output_type": "stream",
     "text": [
      "Hello, world!\n"
     ]
    }
   ],
   "source": [
    "print(\"Hello, world!\")"
   ]
  },
  {
   "cell_type": "markdown",
   "metadata": {},
   "source": [
    "Once again, to run the code, just hit ctrl-Enter, and the notebook should print out the statement.\n",
    "\n",
    "Now, I'll assume you have some familiarity with Python -- if not, there are some great tutorials out there (like [this one from SciPy](https://scipy-lectures.org/intro/)).  To refresh your memory and get us started let's do something pretty simple:  calculate the sine of an angle.\n",
    "\n",
    "To start, we'll create a variable, assign it an angle, and print out the sine of that angle:"
   ]
  },
  {
   "cell_type": "code",
   "execution_count": 2,
   "metadata": {},
   "outputs": [
    {
     "name": "stdout",
     "output_type": "stream",
     "text": [
      "sin(1.047) = 0.866\n"
     ]
    }
   ],
   "source": [
    "from math import pi, sin\n",
    "\n",
    "theta = pi / 3\n",
    "\n",
    "print(f\"sin({theta:.3f}) = {sin(theta):.3f}\")"
   ]
  },
  {
   "cell_type": "markdown",
   "metadata": {},
   "source": [
    "First we imported the sine function (and the number pi!) from the math library, assigned the value to the variable theta, and printed out the answer.  If you're not familiar with [Python's f-strings](https://docs.python.org/3/tutorial/inputoutput.html#tut-f-strings), I highly recommend using them.\n",
    "\n",
    "What if we wanted to calculate the sine of a whole bunch of angles?  Here's one way we could do that:"
   ]
  },
  {
   "cell_type": "code",
   "execution_count": 3,
   "metadata": {},
   "outputs": [
    {
     "name": "stdout",
     "output_type": "stream",
     "text": [
      "[0.0, 0.3490658503988659, 0.6981317007977318, 1.0471975511965976, 1.3962634015954636, 1.7453292519943295, 2.0943951023931953, 2.443460952792061, 2.792526803190927, 3.141592653589793]\n",
      "[0.0, 0.3420201433256687, 0.6427876096865393, 0.8660254037844386, 0.984807753012208, 0.984807753012208, 0.8660254037844387, 0.6427876096865395, 0.3420201433256689, 1.2246467991473532e-16]\n"
     ]
    }
   ],
   "source": [
    "# first create a list of all the angles we want\n",
    "N = 10\n",
    "angles = []\n",
    "for i in range(N):\n",
    "    angles.append(i/(N-1) * pi)\n",
    "\n",
    "# then calculate the sines\n",
    "sines = []\n",
    "for i in range(N):\n",
    "    sines.append(sin(angles[i]))\n",
    "    \n",
    "print(angles)\n",
    "print(sines)"
   ]
  },
  {
   "cell_type": "markdown",
   "metadata": {},
   "source": [
    "I could have been more concide with this, of course, but the fact remains that Python doesn't do lists or arrays very well (and is usually quite slow with them).  That's where NumPy comes in."
   ]
  },
  {
   "cell_type": "markdown",
   "metadata": {},
   "source": [
    "## 1.2 NumPy Basics\n",
    "\n",
    "Let's do the same calculation, but this time using NumPy arrays.  We'll have to import the NumPy library, which we'll call \"np\" in the code, and preface the functions and variables we want to use with np.  Here goes -- first the simple calculation:"
   ]
  },
  {
   "cell_type": "code",
   "execution_count": 4,
   "metadata": {},
   "outputs": [
    {
     "name": "stdout",
     "output_type": "stream",
     "text": [
      "sin(1.047) = 0.866\n"
     ]
    }
   ],
   "source": [
    "import numpy as np\n",
    "\n",
    "theta = np.pi / 3\n",
    "\n",
    "print(f\"sin({theta:.3f}) = {np.sin(theta):.3f}\")"
   ]
  },
  {
   "cell_type": "markdown",
   "metadata": {},
   "source": [
    "Now the range of values:"
   ]
  },
  {
   "cell_type": "code",
   "execution_count": 5,
   "metadata": {},
   "outputs": [
    {
     "name": "stdout",
     "output_type": "stream",
     "text": [
      "[0.         0.34906585 0.6981317  1.04719755 1.3962634  1.74532925\n",
      " 2.0943951  2.44346095 2.7925268  3.14159265]\n",
      "[0.00000000e+00 3.42020143e-01 6.42787610e-01 8.66025404e-01\n",
      " 9.84807753e-01 9.84807753e-01 8.66025404e-01 6.42787610e-01\n",
      " 3.42020143e-01 1.22464680e-16]\n"
     ]
    }
   ],
   "source": [
    "angles = np.linspace(0, np.pi, 10)\n",
    "sines = np.sin(angles)\n",
    "\n",
    "print(angles)\n",
    "print(sines)"
   ]
  },
  {
   "cell_type": "markdown",
   "metadata": {},
   "source": [
    "That's quite a bit shorter, faster (especially when there's a lot of elements -- try changing N), and easier to do.\n",
    "\n",
    "Let's run through some of the most common things to do with Numpy, starting with creating arrays.  I used np.linspace in the code above to create an array -- you specify how many array elements you want with that.  But you can also specify the step size with np.arange:"
   ]
  },
  {
   "cell_type": "code",
   "execution_count": 6,
   "metadata": {},
   "outputs": [
    {
     "name": "stdout",
     "output_type": "stream",
     "text": [
      "[0.  0.1 0.2 0.3 0.4 0.5 0.6 0.7 0.8 0.9 1.  1.1 1.2 1.3 1.4 1.5 1.6 1.7\n",
      " 1.8 1.9 2.  2.1 2.2 2.3 2.4 2.5 2.6 2.7 2.8 2.9 3.  3.1]\n"
     ]
    }
   ],
   "source": [
    "angles = np.arange(0, np.pi, 0.1)\n",
    "print(angles)"
   ]
  },
  {
   "cell_type": "markdown",
   "metadata": {},
   "source": [
    "If you want something more complicated that a range of numbers, you might need to create an array that just contains zeros:"
   ]
  },
  {
   "cell_type": "code",
   "execution_count": 7,
   "metadata": {},
   "outputs": [
    {
     "name": "stdout",
     "output_type": "stream",
     "text": [
      "[0. 0. 0. 0. 0. 0. 0. 0. 0. 0.]\n"
     ]
    }
   ],
   "source": [
    "x = np.zeros(N)\n",
    "print(x)"
   ]
  },
  {
   "cell_type": "markdown",
   "metadata": {},
   "source": [
    "Once you have an array, you can operate on it in a variety of ways.  For example, you can quickly find the maximum value:"
   ]
  },
  {
   "cell_type": "code",
   "execution_count": 8,
   "metadata": {},
   "outputs": [
    {
     "name": "stdout",
     "output_type": "stream",
     "text": [
      "The maximum value of the sines array is 0.984807753012208, which is at position 4 in the array.\n"
     ]
    }
   ],
   "source": [
    "print(f\"The maximum value of the sines array is {sines.max()}, which is at position {sines.argmax()} in the array.\")"
   ]
  },
  {
   "cell_type": "markdown",
   "metadata": {},
   "source": [
    "The best thing about NumPy arrays is that you can operate on the entire array at once, without building a loop.  For example, we can add a number to every element like this:"
   ]
  },
  {
   "cell_type": "code",
   "execution_count": 9,
   "metadata": {},
   "outputs": [
    {
     "name": "stdout",
     "output_type": "stream",
     "text": [
      "[1.  1.1 1.2 1.3 1.4 1.5 1.6 1.7 1.8 1.9 2.  2.1 2.2 2.3 2.4 2.5 2.6 2.7\n",
      " 2.8 2.9 3.  3.1 3.2 3.3 3.4 3.5 3.6 3.7 3.8 3.9 4.  4.1]\n"
     ]
    }
   ],
   "source": [
    "angles += 1.0\n",
    "print(angles)"
   ]
  },
  {
   "cell_type": "markdown",
   "metadata": {},
   "source": [
    "Same goes for multiplying or using a NumPy function like np.sin().\n",
    "\n",
    "Before we move on to plotting, let's make a complicated function to plot."
   ]
  },
  {
   "cell_type": "code",
   "execution_count": 10,
   "metadata": {},
   "outputs": [
    {
     "name": "stdout",
     "output_type": "stream",
     "text": [
      "[0.         0.05050505 0.1010101  0.15151515 0.2020202  0.25252525\n",
      " 0.3030303  0.35353535 0.4040404  0.45454545 0.50505051 0.55555556\n",
      " 0.60606061 0.65656566 0.70707071 0.75757576 0.80808081 0.85858586\n",
      " 0.90909091 0.95959596 1.01010101 1.06060606 1.11111111 1.16161616\n",
      " 1.21212121 1.26262626 1.31313131 1.36363636 1.41414141 1.46464646\n",
      " 1.51515152 1.56565657 1.61616162 1.66666667 1.71717172 1.76767677\n",
      " 1.81818182 1.86868687 1.91919192 1.96969697 2.02020202 2.07070707\n",
      " 2.12121212 2.17171717 2.22222222 2.27272727 2.32323232 2.37373737\n",
      " 2.42424242 2.47474747 2.52525253 2.57575758 2.62626263 2.67676768\n",
      " 2.72727273 2.77777778 2.82828283 2.87878788 2.92929293 2.97979798\n",
      " 3.03030303 3.08080808 3.13131313 3.18181818 3.23232323 3.28282828\n",
      " 3.33333333 3.38383838 3.43434343 3.48484848 3.53535354 3.58585859\n",
      " 3.63636364 3.68686869 3.73737374 3.78787879 3.83838384 3.88888889\n",
      " 3.93939394 3.98989899 4.04040404 4.09090909 4.14141414 4.19191919\n",
      " 4.24242424 4.29292929 4.34343434 4.39393939 4.44444444 4.49494949\n",
      " 4.54545455 4.5959596  4.64646465 4.6969697  4.74747475 4.7979798\n",
      " 4.84848485 4.8989899  4.94949495 5.        ] [0.         0.23523367 0.34539782 0.43642879 0.51727117 0.59114611\n",
      " 0.65961964 0.72359171 0.78364108 0.84017197 0.89348511 0.94381549\n",
      " 0.99135396 1.03626029 1.07867147 1.11870722 1.15647373 1.19206633\n",
      " 1.22557146 1.25706812 1.28662898 1.31432129 1.34020756 1.36434615\n",
      " 1.38679178 1.40759589 1.42680706 1.44447124 1.4606321  1.47533122\n",
      " 1.48860831 1.50050143 1.51104715 1.52028074 1.52823628 1.53494683\n",
      " 1.54044457 1.54476088 1.5479265  1.54997163 1.55092601 1.55081904\n",
      " 1.54967985 1.54753743 1.54442067 1.54035849 1.53537988 1.52951399\n",
      " 1.52279022 1.51523829 1.50688831 1.49777087 1.48791707 1.47735866\n",
      " 1.46612807 1.45425848 1.44178393 1.42873937 1.41516072 1.40108502\n",
      " 1.3865504  1.37159626 1.35626328 1.34059354 1.32463056 1.3084194\n",
      " 1.29200671 1.27544081 1.25877175 1.24205132 1.22533313 1.20867256\n",
      " 1.19212684 1.17575493 1.1596175  1.14377683 1.12829665 1.11324194\n",
      " 1.09867869 1.08467357 1.07129356 1.0586055  1.04667556 1.03556865\n",
      " 1.02534778 1.01607331 1.00780226 1.00058746 0.99447684 0.98951267\n",
      " 0.9857308  0.98316013 0.98182203 0.98173001 0.98288943 0.98529747\n",
      " 0.98894323 0.99380792 0.99986533 1.00708229]\n"
     ]
    }
   ],
   "source": [
    "N = 100\n",
    "x = np.linspace(0, 5, N)\n",
    "f = np.sqrt(np.sin(x) + 2.0 * (np.exp(-x)-1)**2)\n",
    "\n",
    "print(x, f)"
   ]
  },
  {
   "cell_type": "markdown",
   "metadata": {},
   "source": [
    "## 1.3 Plotting with MatPlotLib\n",
    "\n",
    "We'll be using MatPlotLib, a Python plotting library, for graphing and visualziation.  It can be as simple to use as just importing the library and calling the \"plot\" function:"
   ]
  },
  {
   "cell_type": "code",
   "execution_count": 11,
   "metadata": {},
   "outputs": [
    {
     "data": {
      "text/plain": [
       "[<matplotlib.lines.Line2D at 0x7f88a3f04880>]"
      ]
     },
     "execution_count": 11,
     "metadata": {},
     "output_type": "execute_result"
    },
    {
     "data": {
      "image/png": "[encoded data removed]",
      "text/plain": [
       "<Figure size 432x288 with 1 Axes>"
      ]
     },
     "metadata": {
      "needs_background": "light"
     },
     "output_type": "display_data"
    }
   ],
   "source": [
    "import matplotlib.pyplot as plt\n",
    "\n",
    "plt.plot(x, f)"
   ]
  },
  {
   "cell_type": "markdown",
   "metadata": {},
   "source": [
    "However, my preference is to use a more object-oriented approach by creating an axis and modifying that:"
   ]
  },
  {
   "cell_type": "code",
   "execution_count": 12,
   "metadata": {},
   "outputs": [
    {
     "data": {
      "text/plain": [
       "Text(0, 0.5, '$f(x)$')"
      ]
     },
     "execution_count": 12,
     "metadata": {},
     "output_type": "execute_result"
    },
    {
     "data": {
      "image/png": "[encoded data removed]",
      "text/plain": [
       "<Figure size 432x288 with 1 Axes>"
      ]
     },
     "metadata": {
      "needs_background": "light"
     },
     "output_type": "display_data"
    }
   ],
   "source": [
    "fig = plt.figure(figsize=(6, 4))\n",
    "ax = fig.add_subplot(1, 1, 1)\n",
    "\n",
    "ax.plot(x, f, color=\"black\")\n",
    "ax.set_xlabel(\"$x$\")\n",
    "ax.set_ylabel(\"$f(x)$\")"
   ]
  },
  {
   "cell_type": "markdown",
   "metadata": {},
   "source": [
    "Just one last thing to cover before we move on; I'd like to make sure the fonts that I use in the plots like nice.  Here's the code for that:"
   ]
  },
  {
   "cell_type": "code",
   "execution_count": 13,
   "metadata": {},
   "outputs": [],
   "source": [
    "from matplotlib import rc\n",
    "\n",
    "rc('text.latex',preamble='\\\\usepackage{libertine}\\n\\\\usepackage[libertine]{newtxmath}')\n",
    "rc('font',**{'family':'serif','serif':['Linux Libertine O']}, size=18)\n",
    "rc('text', usetex=True)"
   ]
  },
  {
   "cell_type": "code",
   "execution_count": 18,
   "metadata": {},
   "outputs": [
    {
     "data": {
      "text/plain": [
       "Text(0, 0.5, '$f(x)$')"
      ]
     },
     "execution_count": 18,
     "metadata": {},
     "output_type": "execute_result"
    },
    {
     "data": {
      "image/png": "[encoded data removed]",
      "text/plain": [
       "<Figure size 432x288 with 1 Axes>"
      ]
     },
     "metadata": {
      "needs_background": "light"
     },
     "output_type": "display_data"
    }
   ],
   "source": [
    "fig = plt.figure(figsize=(6, 4))\n",
    "ax = fig.add_subplot(1, 1, 1)\n",
    "\n",
    "ax.plot(x, f, color=\"black\", linewidth=2)\n",
    "ax.set_xlabel(\"$x$\")\n",
    "ax.set_ylabel(\"$f(x)$\")"
   ]
  }
 ],
 "metadata": {
  "kernelspec": {
   "display_name": "Python 3",
   "language": "python",
   "name": "python3"
  },
  "language_info": {
   "codemirror_mode": {
    "name": "ipython",
    "version": 3
   },
   "file_extension": ".py",
   "mimetype": "text/x-python",
   "name": "python",
   "nbconvert_exporter": "python",
   "pygments_lexer": "ipython3",
   "version": "3.10.4"
  }
 },
 "nbformat": 4,
 "nbformat_minor": 4
}
